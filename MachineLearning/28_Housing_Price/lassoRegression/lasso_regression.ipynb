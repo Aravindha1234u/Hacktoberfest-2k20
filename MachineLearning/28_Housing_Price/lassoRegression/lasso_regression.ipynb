{
  "nbformat": 4,
  "nbformat_minor": 0,
  "metadata": {
    "colab": {
      "name": "lasso_regression.ipynb",
      "provenance": [],
      "collapsed_sections": []
    },
    "kernelspec": {
      "name": "python3",
      "display_name": "Python 3"
    }
  },
  "cells": [
    {
      "cell_type": "markdown",
      "metadata": {
        "id": "TwfuBzYAlgru"
      },
      "source": [
        "# Lasso Regression on Boston Housing Dataset"
      ]
    },
    {
      "cell_type": "code",
      "metadata": {
        "id": "4aw05E6tqyFm"
      },
      "source": [
        "import numpy as np\n",
        "import matplotlib.pyplot as plt\n",
        "import pandas as pd\n",
        "from sklearn.datasets import load_boston"
      ],
      "execution_count": null,
      "outputs": []
    },
    {
      "cell_type": "markdown",
      "metadata": {
        "id": "JdODoOjvoP-8"
      },
      "source": [
        "Loading the dataset"
      ]
    },
    {
      "cell_type": "code",
      "metadata": {
        "id": "wr3WH6dar49p"
      },
      "source": [
        "boston_data = load_boston()\n",
        " \n",
        "boston_df = pd.DataFrame(data=boston_data.data, columns=boston_data.feature_names)"
      ],
      "execution_count": null,
      "outputs": []
    },
    {
      "cell_type": "code",
      "metadata": {
        "id": "cK0aLq3MsRMC",
        "outputId": "554e6e86-e148-4338-f7e4-65c4eb9b9f02",
        "colab": {
          "base_uri": "https://localhost:8080/",
          "height": 223
        }
      },
      "source": [
        "boston_df.head()"
      ],
      "execution_count": null,
      "outputs": [
        {
          "output_type": "execute_result",
          "data": {
            "text/html": [
              "<div>\n",
              "<style scoped>\n",
              "    .dataframe tbody tr th:only-of-type {\n",
              "        vertical-align: middle;\n",
              "    }\n",
              "\n",
              "    .dataframe tbody tr th {\n",
              "        vertical-align: top;\n",
              "    }\n",
              "\n",
              "    .dataframe thead th {\n",
              "        text-align: right;\n",
              "    }\n",
              "</style>\n",
              "<table border=\"1\" class=\"dataframe\">\n",
              "  <thead>\n",
              "    <tr style=\"text-align: right;\">\n",
              "      <th></th>\n",
              "      <th>CRIM</th>\n",
              "      <th>ZN</th>\n",
              "      <th>INDUS</th>\n",
              "      <th>CHAS</th>\n",
              "      <th>NOX</th>\n",
              "      <th>RM</th>\n",
              "      <th>AGE</th>\n",
              "      <th>DIS</th>\n",
              "      <th>RAD</th>\n",
              "      <th>TAX</th>\n",
              "      <th>PTRATIO</th>\n",
              "      <th>B</th>\n",
              "      <th>LSTAT</th>\n",
              "    </tr>\n",
              "  </thead>\n",
              "  <tbody>\n",
              "    <tr>\n",
              "      <th>0</th>\n",
              "      <td>0.00632</td>\n",
              "      <td>18.0</td>\n",
              "      <td>2.31</td>\n",
              "      <td>0.0</td>\n",
              "      <td>0.538</td>\n",
              "      <td>6.575</td>\n",
              "      <td>65.2</td>\n",
              "      <td>4.0900</td>\n",
              "      <td>1.0</td>\n",
              "      <td>296.0</td>\n",
              "      <td>15.3</td>\n",
              "      <td>396.90</td>\n",
              "      <td>4.98</td>\n",
              "    </tr>\n",
              "    <tr>\n",
              "      <th>1</th>\n",
              "      <td>0.02731</td>\n",
              "      <td>0.0</td>\n",
              "      <td>7.07</td>\n",
              "      <td>0.0</td>\n",
              "      <td>0.469</td>\n",
              "      <td>6.421</td>\n",
              "      <td>78.9</td>\n",
              "      <td>4.9671</td>\n",
              "      <td>2.0</td>\n",
              "      <td>242.0</td>\n",
              "      <td>17.8</td>\n",
              "      <td>396.90</td>\n",
              "      <td>9.14</td>\n",
              "    </tr>\n",
              "    <tr>\n",
              "      <th>2</th>\n",
              "      <td>0.02729</td>\n",
              "      <td>0.0</td>\n",
              "      <td>7.07</td>\n",
              "      <td>0.0</td>\n",
              "      <td>0.469</td>\n",
              "      <td>7.185</td>\n",
              "      <td>61.1</td>\n",
              "      <td>4.9671</td>\n",
              "      <td>2.0</td>\n",
              "      <td>242.0</td>\n",
              "      <td>17.8</td>\n",
              "      <td>392.83</td>\n",
              "      <td>4.03</td>\n",
              "    </tr>\n",
              "    <tr>\n",
              "      <th>3</th>\n",
              "      <td>0.03237</td>\n",
              "      <td>0.0</td>\n",
              "      <td>2.18</td>\n",
              "      <td>0.0</td>\n",
              "      <td>0.458</td>\n",
              "      <td>6.998</td>\n",
              "      <td>45.8</td>\n",
              "      <td>6.0622</td>\n",
              "      <td>3.0</td>\n",
              "      <td>222.0</td>\n",
              "      <td>18.7</td>\n",
              "      <td>394.63</td>\n",
              "      <td>2.94</td>\n",
              "    </tr>\n",
              "    <tr>\n",
              "      <th>4</th>\n",
              "      <td>0.06905</td>\n",
              "      <td>0.0</td>\n",
              "      <td>2.18</td>\n",
              "      <td>0.0</td>\n",
              "      <td>0.458</td>\n",
              "      <td>7.147</td>\n",
              "      <td>54.2</td>\n",
              "      <td>6.0622</td>\n",
              "      <td>3.0</td>\n",
              "      <td>222.0</td>\n",
              "      <td>18.7</td>\n",
              "      <td>396.90</td>\n",
              "      <td>5.33</td>\n",
              "    </tr>\n",
              "  </tbody>\n",
              "</table>\n",
              "</div>"
            ],
            "text/plain": [
              "      CRIM    ZN  INDUS  CHAS    NOX  ...  RAD    TAX  PTRATIO       B  LSTAT\n",
              "0  0.00632  18.0   2.31   0.0  0.538  ...  1.0  296.0     15.3  396.90   4.98\n",
              "1  0.02731   0.0   7.07   0.0  0.469  ...  2.0  242.0     17.8  396.90   9.14\n",
              "2  0.02729   0.0   7.07   0.0  0.469  ...  2.0  242.0     17.8  392.83   4.03\n",
              "3  0.03237   0.0   2.18   0.0  0.458  ...  3.0  222.0     18.7  394.63   2.94\n",
              "4  0.06905   0.0   2.18   0.0  0.458  ...  3.0  222.0     18.7  396.90   5.33\n",
              "\n",
              "[5 rows x 13 columns]"
            ]
          },
          "metadata": {
            "tags": []
          },
          "execution_count": 3
        }
      ]
    },
    {
      "cell_type": "code",
      "metadata": {
        "id": "V1mbzs0QtTXK"
      },
      "source": [
        "X = boston_df\n",
        "Y = pd.DataFrame(boston_data.target, columns=[\"MEDV\"])"
      ],
      "execution_count": null,
      "outputs": []
    },
    {
      "cell_type": "markdown",
      "metadata": {
        "id": "tLTbFfwslpr8"
      },
      "source": [
        "## Lasso Regression model with linear features"
      ]
    },
    {
      "cell_type": "code",
      "metadata": {
        "id": "SEkhmcD9i9u-"
      },
      "source": [
        "from sklearn.preprocessing import scale\n",
        " \n",
        "X = scale(X)\n",
        "Y = scale(Y)"
      ],
      "execution_count": null,
      "outputs": []
    },
    {
      "cell_type": "code",
      "metadata": {
        "id": "CV_VE0j6mGLU",
        "outputId": "23fe7d4b-296b-4e43-c38f-3a001f0a7e97",
        "colab": {
          "base_uri": "https://localhost:8080/",
          "height": 85
        }
      },
      "source": [
        "from sklearn.model_selection import train_test_split\n",
        " \n",
        "X_train, X_test, Y_train, Y_test = train_test_split(X, Y, test_size = 0.2, random_state=5)\n",
        "print(X_train.shape)\n",
        "print(X_test.shape)\n",
        "print(Y_train.shape)\n",
        "print(Y_test.shape)"
      ],
      "execution_count": null,
      "outputs": [
        {
          "output_type": "stream",
          "text": [
            "(404, 13)\n",
            "(102, 13)\n",
            "(404, 1)\n",
            "(102, 1)\n"
          ],
          "name": "stdout"
        }
      ]
    },
    {
      "cell_type": "markdown",
      "metadata": {
        "id": "Jc0uQmi-oWd1"
      },
      "source": [
        "Training the model"
      ]
    },
    {
      "cell_type": "code",
      "metadata": {
        "id": "evrNx1RQjXlJ",
        "outputId": "dbc97217-a1be-426b-806d-2afa05c8ef34",
        "colab": {
          "base_uri": "https://localhost:8080/",
          "height": 88
        }
      },
      "source": [
        "from sklearn.linear_model import Lasso\n",
        " \n",
        "lasso = Lasso(alpha=0.1)\n",
        "lasso.fit(X_train,Y_train)\n",
        "print (\"Lasso model:\", (lasso.coef_))"
      ],
      "execution_count": null,
      "outputs": [
        {
          "output_type": "stream",
          "text": [
            "Lasso model: [-0.          0.         -0.          0.00809581 -0.          0.2531233\n",
            " -0.         -0.         -0.         -0.         -0.15975457  0.02359289\n",
            " -0.44222622]\n"
          ],
          "name": "stdout"
        }
      ]
    },
    {
      "cell_type": "markdown",
      "metadata": {
        "id": "agRbAWuiocUm"
      },
      "source": [
        "Predictions on training and test data"
      ]
    },
    {
      "cell_type": "code",
      "metadata": {
        "id": "UYv7QVlWoggW"
      },
      "source": [
        "y_train_predict = lasso.predict(X_train)\n",
        "y_test_predict = lasso.predict(X_test)"
      ],
      "execution_count": null,
      "outputs": []
    },
    {
      "cell_type": "markdown",
      "metadata": {
        "id": "BaN3wZaFovH-"
      },
      "source": [
        "Calculating metrics on training and test set predictions"
      ]
    },
    {
      "cell_type": "code",
      "metadata": {
        "id": "IBDiLi9cuMwD",
        "outputId": "09d870ea-0da7-421a-fec2-068706ebd8c7",
        "colab": {
          "base_uri": "https://localhost:8080/",
          "height": 276
        }
      },
      "source": [
        " from sklearn.metrics import r2_score\n",
        "from sklearn.metrics import mean_squared_error\n",
        "\n",
        "rmse = (mean_squared_error(Y_train, y_train_predict)**(0.5))\n",
        "r2 = r2_score(Y_train, y_train_predict)\n",
        " \n",
        "print(\"Lasso Regression Model (Linear Features)\")\n",
        "print(\"-\"*40)\n",
        "\n",
        "print(\"\\nThe model performance for training set\")\n",
        "print(\"-\"*40)\n",
        "print('RMSE is {}'.format(rmse))\n",
        "print('R2 score is {}'.format(r2))\n",
        "print('i.e. The lasso reg. model explains the house price for training set {:.2f}% accurately'.format(r2*100))\n",
        "\n",
        "rmse = (mean_squared_error(Y_test, y_test_predict)**(0.5))\n",
        "r2 = r2_score(Y_test, y_test_predict)\n",
        "\n",
        "print(\"\\nThe model performance for testing set\")\n",
        "print(\"-\"*40)\n",
        "print('RMSE is {}'.format(rmse))\n",
        "print('R2 score is {}'.format(r2))\n",
        "print('i.e. The lasso reg. model explains the house price for test set {:.2f}% accurately'.format(r2*100))"
      ],
      "execution_count": null,
      "outputs": [
        {
          "output_type": "stream",
          "text": [
            "Lasso Regression Model (Linear Features)\n",
            "----------------------------------------\n",
            "\n",
            "The model performance for training set\n",
            "----------------------------------------\n",
            "RMSE is 0.5867948987422895\n",
            "R2 score is 0.6616127605179004\n",
            "i.e. The lasso reg. model explains the house price for training set 66.16% accurately\n",
            "\n",
            "The model performance for testing set\n",
            "----------------------------------------\n",
            "RMSE is 0.5281022470742474\n",
            "R2 score is 0.6992875963240206\n",
            "i.e. The lasso reg. model explains the house price for test set 69.93% accurately\n"
          ],
          "name": "stdout"
        }
      ]
    },
    {
      "cell_type": "markdown",
      "metadata": {
        "id": "-EgYtpisl5Gg"
      },
      "source": [
        "## Lasso Regression model with polynomial features"
      ]
    },
    {
      "cell_type": "code",
      "metadata": {
        "id": "tLANNCy4mVWH"
      },
      "source": [
        "from sklearn.preprocessing import PolynomialFeatures\n",
        " \n",
        "poly = PolynomialFeatures(degree = 2)\n",
        "X_poly = poly.fit_transform(X)"
      ],
      "execution_count": null,
      "outputs": []
    },
    {
      "cell_type": "code",
      "metadata": {
        "id": "TlflUZYwmofj",
        "outputId": "6bf4545f-b6f0-4cae-dd30-c774f12b37b1",
        "colab": {
          "base_uri": "https://localhost:8080/",
          "height": 85
        }
      },
      "source": [
        "X_train, X_test, Y_train, Y_test = train_test_split(X_poly, Y, test_size = 0.2, random_state=5)\n",
        "print(X_train.shape)\n",
        "print(X_test.shape)\n",
        "print(Y_train.shape)\n",
        "print(Y_test.shape)"
      ],
      "execution_count": null,
      "outputs": [
        {
          "output_type": "stream",
          "text": [
            "(404, 105)\n",
            "(102, 105)\n",
            "(404, 1)\n",
            "(102, 1)\n"
          ],
          "name": "stdout"
        }
      ]
    },
    {
      "cell_type": "markdown",
      "metadata": {
        "id": "7_gWGKZCpOOP"
      },
      "source": [
        " Training the model"
      ]
    },
    {
      "cell_type": "code",
      "metadata": {
        "id": "bEiB2dKNmeuA",
        "outputId": "b3a13808-539e-4a5e-b675-bbe11281d00f",
        "colab": {
          "base_uri": "https://localhost:8080/",
          "height": 344
        }
      },
      "source": [
        "lasso = Lasso(alpha=0.003)\n",
        "lasso.fit(X_train,Y_train)\n",
        "print (\"Lasso model:\", (lasso.coef_))"
      ],
      "execution_count": null,
      "outputs": [
        {
          "output_type": "stream",
          "text": [
            "Lasso model: [ 0.         -0.         -0.         -0.          0.         -0.09818647\n",
            "  0.35386341 -0.11876554 -0.29487792  0.06674189 -0.09891912 -0.09610695\n",
            "  0.08154434 -0.39960645  0.00705009  0.         -0.          0.35038616\n",
            " -0.          0.00807639 -0.          0.         -0.03976869 -0.\n",
            " -0.         -0.00074956  0.          0.01037978 -0.          0.\n",
            "  0.          0.04049998 -0.         -0.01360355 -0.          0.07197171\n",
            " -0.         -0.         -0.01760927  0.02350806 -0.          0.11881144\n",
            "  0.0577246   0.          0.         -0.          0.         -0.06008952\n",
            "  0.         -0.05036924  0.04316307 -0.07795339 -0.08979969  0.02420571\n",
            "  0.         -0.          0.         -0.00760077  0.         -0.05084448\n",
            " -0.08706271 -0.03819966 -0.0883225   0.01162432 -0.02822902 -0.\n",
            " -0.05286692 -0.          0.05167499  0.00519466 -0.06222832  0.\n",
            " -0.11662252 -0.0626971  -0.10626387 -0.01851066 -0.0843394   0.00517232\n",
            "  0.          0.15774741 -0.         -0.         -0.13104637 -0.09419996\n",
            "  0.10708117 -0.015024   -0.         -0.         -0.00175086  0.0904864\n",
            " -0.02692252  0.04077564  0.         -0.         -0.27224621  0.01897963\n",
            "  0.17156227 -0.0168717  -0.         -0.01453112 -0.00829942 -0.\n",
            " -0.03313681 -0.03707908  0.1109487 ]\n"
          ],
          "name": "stdout"
        }
      ]
    },
    {
      "cell_type": "markdown",
      "metadata": {
        "id": "HigoD62tpS_6"
      },
      "source": [
        "Predictions on training and test set"
      ]
    },
    {
      "cell_type": "code",
      "metadata": {
        "id": "ITbfXnQEpf3D"
      },
      "source": [
        "y_train_predict = lasso.predict(X_train)\n",
        "y_test_predict = lasso.predict(X_test)"
      ],
      "execution_count": null,
      "outputs": []
    },
    {
      "cell_type": "markdown",
      "metadata": {
        "id": "odcvNh8kpXAe"
      },
      "source": [
        "Calculating metrices of predictions on training and test set"
      ]
    },
    {
      "cell_type": "code",
      "metadata": {
        "id": "cnmfrb46ng54",
        "outputId": "7f972f0e-084c-4028-c073-ec15355b9efb",
        "colab": {
          "base_uri": "https://localhost:8080/",
          "height": 276
        }
      },
      "source": [
        "rmse = (mean_squared_error(Y_train, y_train_predict)**(0.5))\n",
        "r2 = r2_score(Y_train, y_train_predict)\n",
        " \n",
        "print(\"Lasso Regression Model (Polynomial features)\")\n",
        "print(\"-\"*40)\n",
        " \n",
        "print(\"\\nThe model performance for training set\")\n",
        "print(\"-\"*40)\n",
        "print('RMSE is {}'.format(rmse))\n",
        "print('R2 score is {}'.format(r2))\n",
        "print('i.e. The lasso reg. model explains the house price for training set {:.2f}% accurately'.format(r2*100))\n",
        " \n",
        "rmse = (mean_squared_error(Y_test, y_test_predict)**(0.5))\n",
        "r2 = r2_score(Y_test, y_test_predict)\n",
        " \n",
        "print(\"\\nThe model performance for testing set\")\n",
        "print(\"-\"*40)\n",
        "print('RMSE is {}'.format(rmse))\n",
        "print('R2 score is {}'.format(r2))\n",
        "print('i.e. The lasso reg. model explains the house price for training set {:.2f}% accurately'.format(r2*100))"
      ],
      "execution_count": null,
      "outputs": [
        {
          "output_type": "stream",
          "text": [
            "Lasso Regression Model (Polynomial features)\n",
            "----------------------------------------\n",
            "\n",
            "The model performance for training set\n",
            "----------------------------------------\n",
            "RMSE is 0.2952125643173813\n",
            "R2 score is 0.9143532292999902\n",
            "i.e. The lasso reg. model explains the house price for training set 91.44% accurately\n",
            "\n",
            "The model performance for testing set\n",
            "----------------------------------------\n",
            "RMSE is 0.33296235859809953\n",
            "R2 score is 0.8804621088652422\n",
            "i.e. The lasso reg. model explains the house price for training set 88.05% accurately\n"
          ],
          "name": "stdout"
        }
      ]
    }
  ]
}