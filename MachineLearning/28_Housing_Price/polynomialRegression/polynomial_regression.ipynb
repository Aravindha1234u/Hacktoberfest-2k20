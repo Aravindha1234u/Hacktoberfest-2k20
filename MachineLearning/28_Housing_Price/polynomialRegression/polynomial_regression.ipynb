{
  "nbformat": 4,
  "nbformat_minor": 0,
  "metadata": {
    "colab": {
      "name": "polynomial_regression.ipynb",
      "provenance": [],
      "collapsed_sections": []
    },
    "kernelspec": {
      "name": "python3",
      "display_name": "Python 3"
    }
  },
  "cells": [
    {
      "cell_type": "markdown",
      "metadata": {
        "id": "eH-RKyplGEtS"
      },
      "source": [
        "# Polynomial Regression on Boston dataset"
      ]
    },
    {
      "cell_type": "code",
      "metadata": {
        "id": "bcisAdKtDGwB"
      },
      "source": [
        "import numpy as np\n",
        "import matplotlib.pyplot as plt\n",
        "import pandas as pd"
      ],
      "execution_count": 1,
      "outputs": []
    },
    {
      "cell_type": "markdown",
      "metadata": {
        "id": "OQV9YKdFKqTW"
      },
      "source": [
        "Importing dataset"
      ]
    },
    {
      "cell_type": "code",
      "metadata": {
        "id": "xdZWTuIiDPUA",
        "outputId": "cf4a7940-61da-4e99-962c-42d016774696",
        "colab": {
          "base_uri": "https://localhost:8080/",
          "height": 52
        }
      },
      "source": [
        "from sklearn.datasets import load_boston\n",
        "\n",
        "boston_dataset = load_boston()\n",
        "boston_df = pd.DataFrame(data=boston_dataset.data, columns=boston_dataset.feature_names)\n",
        "x = pd.DataFrame(np.c_[boston_df['LSTAT'], boston_df['RM']], columns=['LSTAT', 'RM'])\n",
        "y = pd.DataFrame(boston_dataset.target, columns=['MEDV'])\n",
        "\n",
        "print(x.shape)\n",
        "print(y.shape)"
      ],
      "execution_count": 2,
      "outputs": [
        {
          "output_type": "stream",
          "text": [
            "(506, 2)\n",
            "(506, 1)\n"
          ],
          "name": "stdout"
        }
      ]
    },
    {
      "cell_type": "markdown",
      "metadata": {
        "id": "56O_U7r3KwPc"
      },
      "source": [
        "Fitting polynomial regression to the dataset"
      ]
    },
    {
      "cell_type": "code",
      "metadata": {
        "id": "VaIt0mEODWuF"
      },
      "source": [
        "from sklearn.linear_model import LinearRegression\n",
        "from sklearn.preprocessing import PolynomialFeatures\n",
        "\n",
        "features = PolynomialFeatures(degree=2)\n",
        "x = features.fit_transform(x)"
      ],
      "execution_count": 3,
      "outputs": []
    },
    {
      "cell_type": "markdown",
      "metadata": {
        "id": "C-z7NswZLDC1"
      },
      "source": [
        "Splitting the Dataset into Training set and Test set"
      ]
    },
    {
      "cell_type": "code",
      "metadata": {
        "id": "7cSJT_b8DdxL"
      },
      "source": [
        "from sklearn.model_selection import train_test_split\n",
        "\n",
        "train_x, test_x, train_y, test_y = train_test_split(x, y, test_size=0.2, random_state=5)"
      ],
      "execution_count": 4,
      "outputs": []
    },
    {
      "cell_type": "code",
      "metadata": {
        "id": "xDzr_1VDEeoA",
        "outputId": "d11ee6bc-345f-4258-b05c-321cb44f721e",
        "colab": {
          "base_uri": "https://localhost:8080/",
          "height": 87
        }
      },
      "source": [
        "print(train_x.shape)\n",
        "print(test_x.shape)\n",
        "print(train_y.shape)\n",
        "print(test_y.shape)"
      ],
      "execution_count": 5,
      "outputs": [
        {
          "output_type": "stream",
          "text": [
            "(404, 6)\n",
            "(102, 6)\n",
            "(404, 1)\n",
            "(102, 1)\n"
          ],
          "name": "stdout"
        }
      ]
    },
    {
      "cell_type": "markdown",
      "metadata": {
        "id": "GbIgY8IZLXVW"
      },
      "source": [
        "Training the model"
      ]
    },
    {
      "cell_type": "code",
      "metadata": {
        "id": "ri7IN5JJDkeQ",
        "outputId": "67beb29a-4b46-472e-a58d-6c83e3891455",
        "colab": {
          "base_uri": "https://localhost:8080/",
          "height": 35
        }
      },
      "source": [
        "from sklearn.linear_model import LinearRegression\n",
        "\n",
        "model = LinearRegression()\n",
        "model.fit(train_x, train_y)"
      ],
      "execution_count": 6,
      "outputs": [
        {
          "output_type": "execute_result",
          "data": {
            "text/plain": [
              "LinearRegression(copy_X=True, fit_intercept=True, n_jobs=None, normalize=False)"
            ]
          },
          "metadata": {
            "tags": []
          },
          "execution_count": 6
        }
      ]
    },
    {
      "cell_type": "markdown",
      "metadata": {
        "id": "WnN0EeZBLdZa"
      },
      "source": [
        "Predictions"
      ]
    },
    {
      "cell_type": "code",
      "metadata": {
        "id": "jag6JhAMLhg7"
      },
      "source": [
        "train_y_predict = model.predict(train_x)\n",
        "test_y_predict = model.predict(test_x)"
      ],
      "execution_count": 7,
      "outputs": []
    },
    {
      "cell_type": "markdown",
      "metadata": {
        "id": "7T6tgdYjLo7F"
      },
      "source": [
        "Calculating metrics on Training and Test set predictions"
      ]
    },
    {
      "cell_type": "code",
      "metadata": {
        "id": "MV4EtvJSDsIc",
        "outputId": "86b442ff-c8f9-4000-96b1-ea6e949a3e05",
        "colab": {
          "base_uri": "https://localhost:8080/",
          "height": 243
        }
      },
      "source": [
        "from sklearn.metrics import r2_score, mean_squared_error\n",
        "\n",
        "rmse = mean_squared_error(train_y, train_y_predict)**(0.5)\n",
        "score = r2_score(train_y, train_y_predict)\n",
        "print(\"\\nThe model performance for training set\")\n",
        "print(\"-\"*40)\n",
        "print(\"RMSE is {}\".format(rmse))\n",
        "print(\"R2 score is {}\".format(score))\n",
        "print(\"i.e. The polynomial model explains the house price for training set by {:.2f}% accuracy\".format(score*100))\n",
        "\n",
        "rmse = np.sqrt(mean_squared_error(test_y, test_y_predict))\n",
        "score = r2_score(test_y, test_y_predict)\n",
        "print(\"\\nThe model performance for test set\")\n",
        "print(\"-\"*40)\n",
        "print(\"RMSE is {}\".format(rmse))\n",
        "print(\"R2 score is {}\".format(score))\n",
        "print(\"i.e. The polynomial model explains the house price for test set by {:.2f}% accuracy\\n\".format(score*100))"
      ],
      "execution_count": 8,
      "outputs": [
        {
          "output_type": "stream",
          "text": [
            "\n",
            "The model performance for training set\n",
            "----------------------------------------\n",
            "RMSE is 4.703071027847756\n",
            "R2 score is 0.7425094297364765\n",
            "i.e. The polynomial model explains the house price for training set by 74.25% accuracy\n",
            "\n",
            "The model performance for test set\n",
            "----------------------------------------\n",
            "RMSE is 3.784819884545044\n",
            "R2 score is 0.8170372495892174\n",
            "i.e. The polynomial model explains the house price for test set by 81.70% accuracy\n",
            "\n"
          ],
          "name": "stdout"
        }
      ]
    }
  ]
}