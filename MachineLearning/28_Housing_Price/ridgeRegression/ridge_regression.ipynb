{
  "nbformat": 4,
  "nbformat_minor": 0,
  "metadata": {
    "colab": {
      "name": "ridge_regression.ipynb",
      "provenance": [],
      "collapsed_sections": []
    },
    "kernelspec": {
      "name": "python3",
      "display_name": "Python 3"
    }
  },
  "cells": [
    {
      "cell_type": "markdown",
      "metadata": {
        "id": "TwfuBzYAlgru"
      },
      "source": [
        "# Ridge Regression on Boston Housing Dataset"
      ]
    },
    {
      "cell_type": "code",
      "metadata": {
        "id": "4aw05E6tqyFm"
      },
      "source": [
        "import numpy as np\n",
        "import matplotlib.pyplot as plt\n",
        "import pandas as pd\n",
        "from sklearn.datasets import load_boston"
      ],
      "execution_count": null,
      "outputs": []
    },
    {
      "cell_type": "markdown",
      "metadata": {
        "id": "JdODoOjvoP-8"
      },
      "source": [
        "Loading the dataset"
      ]
    },
    {
      "cell_type": "code",
      "metadata": {
        "id": "wr3WH6dar49p"
      },
      "source": [
        "boston_data = load_boston()\n",
        " \n",
        "boston_df = pd.DataFrame(data=boston_data.data, columns=boston_data.feature_names)"
      ],
      "execution_count": null,
      "outputs": []
    },
    {
      "cell_type": "code",
      "metadata": {
        "id": "cK0aLq3MsRMC",
        "outputId": "ff5309d0-44b2-4965-a667-5eecf19b4090",
        "colab": {
          "base_uri": "https://localhost:8080/",
          "height": 223
        }
      },
      "source": [
        "boston_df.head()"
      ],
      "execution_count": null,
      "outputs": [
        {
          "output_type": "execute_result",
          "data": {
            "text/html": [
              "<div>\n",
              "<style scoped>\n",
              "    .dataframe tbody tr th:only-of-type {\n",
              "        vertical-align: middle;\n",
              "    }\n",
              "\n",
              "    .dataframe tbody tr th {\n",
              "        vertical-align: top;\n",
              "    }\n",
              "\n",
              "    .dataframe thead th {\n",
              "        text-align: right;\n",
              "    }\n",
              "</style>\n",
              "<table border=\"1\" class=\"dataframe\">\n",
              "  <thead>\n",
              "    <tr style=\"text-align: right;\">\n",
              "      <th></th>\n",
              "      <th>CRIM</th>\n",
              "      <th>ZN</th>\n",
              "      <th>INDUS</th>\n",
              "      <th>CHAS</th>\n",
              "      <th>NOX</th>\n",
              "      <th>RM</th>\n",
              "      <th>AGE</th>\n",
              "      <th>DIS</th>\n",
              "      <th>RAD</th>\n",
              "      <th>TAX</th>\n",
              "      <th>PTRATIO</th>\n",
              "      <th>B</th>\n",
              "      <th>LSTAT</th>\n",
              "    </tr>\n",
              "  </thead>\n",
              "  <tbody>\n",
              "    <tr>\n",
              "      <th>0</th>\n",
              "      <td>0.00632</td>\n",
              "      <td>18.0</td>\n",
              "      <td>2.31</td>\n",
              "      <td>0.0</td>\n",
              "      <td>0.538</td>\n",
              "      <td>6.575</td>\n",
              "      <td>65.2</td>\n",
              "      <td>4.0900</td>\n",
              "      <td>1.0</td>\n",
              "      <td>296.0</td>\n",
              "      <td>15.3</td>\n",
              "      <td>396.90</td>\n",
              "      <td>4.98</td>\n",
              "    </tr>\n",
              "    <tr>\n",
              "      <th>1</th>\n",
              "      <td>0.02731</td>\n",
              "      <td>0.0</td>\n",
              "      <td>7.07</td>\n",
              "      <td>0.0</td>\n",
              "      <td>0.469</td>\n",
              "      <td>6.421</td>\n",
              "      <td>78.9</td>\n",
              "      <td>4.9671</td>\n",
              "      <td>2.0</td>\n",
              "      <td>242.0</td>\n",
              "      <td>17.8</td>\n",
              "      <td>396.90</td>\n",
              "      <td>9.14</td>\n",
              "    </tr>\n",
              "    <tr>\n",
              "      <th>2</th>\n",
              "      <td>0.02729</td>\n",
              "      <td>0.0</td>\n",
              "      <td>7.07</td>\n",
              "      <td>0.0</td>\n",
              "      <td>0.469</td>\n",
              "      <td>7.185</td>\n",
              "      <td>61.1</td>\n",
              "      <td>4.9671</td>\n",
              "      <td>2.0</td>\n",
              "      <td>242.0</td>\n",
              "      <td>17.8</td>\n",
              "      <td>392.83</td>\n",
              "      <td>4.03</td>\n",
              "    </tr>\n",
              "    <tr>\n",
              "      <th>3</th>\n",
              "      <td>0.03237</td>\n",
              "      <td>0.0</td>\n",
              "      <td>2.18</td>\n",
              "      <td>0.0</td>\n",
              "      <td>0.458</td>\n",
              "      <td>6.998</td>\n",
              "      <td>45.8</td>\n",
              "      <td>6.0622</td>\n",
              "      <td>3.0</td>\n",
              "      <td>222.0</td>\n",
              "      <td>18.7</td>\n",
              "      <td>394.63</td>\n",
              "      <td>2.94</td>\n",
              "    </tr>\n",
              "    <tr>\n",
              "      <th>4</th>\n",
              "      <td>0.06905</td>\n",
              "      <td>0.0</td>\n",
              "      <td>2.18</td>\n",
              "      <td>0.0</td>\n",
              "      <td>0.458</td>\n",
              "      <td>7.147</td>\n",
              "      <td>54.2</td>\n",
              "      <td>6.0622</td>\n",
              "      <td>3.0</td>\n",
              "      <td>222.0</td>\n",
              "      <td>18.7</td>\n",
              "      <td>396.90</td>\n",
              "      <td>5.33</td>\n",
              "    </tr>\n",
              "  </tbody>\n",
              "</table>\n",
              "</div>"
            ],
            "text/plain": [
              "      CRIM    ZN  INDUS  CHAS    NOX  ...  RAD    TAX  PTRATIO       B  LSTAT\n",
              "0  0.00632  18.0   2.31   0.0  0.538  ...  1.0  296.0     15.3  396.90   4.98\n",
              "1  0.02731   0.0   7.07   0.0  0.469  ...  2.0  242.0     17.8  396.90   9.14\n",
              "2  0.02729   0.0   7.07   0.0  0.469  ...  2.0  242.0     17.8  392.83   4.03\n",
              "3  0.03237   0.0   2.18   0.0  0.458  ...  3.0  222.0     18.7  394.63   2.94\n",
              "4  0.06905   0.0   2.18   0.0  0.458  ...  3.0  222.0     18.7  396.90   5.33\n",
              "\n",
              "[5 rows x 13 columns]"
            ]
          },
          "metadata": {
            "tags": []
          },
          "execution_count": 3
        }
      ]
    },
    {
      "cell_type": "code",
      "metadata": {
        "id": "V1mbzs0QtTXK"
      },
      "source": [
        "X = boston_df\n",
        "Y = pd.DataFrame(boston_data.target, columns=[\"MEDV\"])"
      ],
      "execution_count": null,
      "outputs": []
    },
    {
      "cell_type": "markdown",
      "metadata": {
        "id": "tLTbFfwslpr8"
      },
      "source": [
        "## Ridge Regression model with linear features"
      ]
    },
    {
      "cell_type": "code",
      "metadata": {
        "id": "SEkhmcD9i9u-"
      },
      "source": [
        "from sklearn.preprocessing import scale\n",
        " \n",
        "X = scale(X)\n",
        "Y = scale(Y)"
      ],
      "execution_count": null,
      "outputs": []
    },
    {
      "cell_type": "code",
      "metadata": {
        "id": "CV_VE0j6mGLU",
        "outputId": "7ae48e2f-2637-4ba9-dfb1-e8d1cacc36f2",
        "colab": {
          "base_uri": "https://localhost:8080/",
          "height": 85
        }
      },
      "source": [
        "from sklearn.model_selection import train_test_split\n",
        " \n",
        "X_train, X_test, Y_train, Y_test = train_test_split(X, Y, test_size = 0.2, random_state=5)\n",
        "print(X_train.shape)\n",
        "print(X_test.shape)\n",
        "print(Y_train.shape)\n",
        "print(Y_test.shape)"
      ],
      "execution_count": null,
      "outputs": [
        {
          "output_type": "stream",
          "text": [
            "(404, 13)\n",
            "(102, 13)\n",
            "(404, 1)\n",
            "(102, 1)\n"
          ],
          "name": "stdout"
        }
      ]
    },
    {
      "cell_type": "markdown",
      "metadata": {
        "id": "Jc0uQmi-oWd1"
      },
      "source": [
        "Training the model"
      ]
    },
    {
      "cell_type": "code",
      "metadata": {
        "id": "evrNx1RQjXlJ",
        "outputId": "ca74117f-23b8-4b8b-e1bb-c4542f9d71da",
        "colab": {
          "base_uri": "https://localhost:8080/",
          "height": 88
        }
      },
      "source": [
        "from sklearn.linear_model import Ridge\n",
        " \n",
        "ridge = Ridge(alpha=0.1)\n",
        "ridge.fit(X_train,Y_train)\n",
        "print (\"Ridge model:\", (ridge.coef_))"
      ],
      "execution_count": null,
      "outputs": [
        {
          "output_type": "stream",
          "text": [
            "Ridge model: [[-0.12221504  0.12505241  0.00046378  0.07477056 -0.20068959  0.2609502\n",
            "   0.00333226 -0.34147204  0.34379568 -0.24021542 -0.22407009  0.11660369\n",
            "  -0.46105328]]\n"
          ],
          "name": "stdout"
        }
      ]
    },
    {
      "cell_type": "markdown",
      "metadata": {
        "id": "agRbAWuiocUm"
      },
      "source": [
        "Predictions on training and test data"
      ]
    },
    {
      "cell_type": "code",
      "metadata": {
        "id": "UYv7QVlWoggW"
      },
      "source": [
        "y_train_predict = ridge.predict(X_train)\n",
        "y_test_predict = ridge.predict(X_test)"
      ],
      "execution_count": null,
      "outputs": []
    },
    {
      "cell_type": "markdown",
      "metadata": {
        "id": "BaN3wZaFovH-"
      },
      "source": [
        "Calculating metrics on training and test set predictions"
      ]
    },
    {
      "cell_type": "code",
      "metadata": {
        "id": "IBDiLi9cuMwD",
        "outputId": "1c6827cb-b176-49f7-c25a-2e78ce485a90",
        "colab": {
          "base_uri": "https://localhost:8080/",
          "height": 276
        }
      },
      "source": [
        " from sklearn.metrics import r2_score\n",
        "from sklearn.metrics import mean_squared_error\n",
        " \n",
        "rmse = (mean_squared_error(Y_train, y_train_predict)**(0.5))\n",
        "r2 = r2_score(Y_train, y_train_predict)\n",
        " \n",
        "print(\"Ridge Regression Model (Linear Features)\")\n",
        "print(\"-\"*40)\n",
        " \n",
        "print(\"\\nThe model performance for training set\")\n",
        "print(\"-\"*40)\n",
        "print('RMSE is {}'.format(rmse))\n",
        "print('R2 score is {}'.format(r2))\n",
        "print('i.e. The ridge reg. model explains the house price for training set {:.2f}% accurately'.format(r2*100))\n",
        " \n",
        "rmse = (mean_squared_error(Y_test, y_test_predict)**(0.5))\n",
        "r2 = r2_score(Y_test, y_test_predict)\n",
        " \n",
        "print(\"\\nThe model performance for testing set\")\n",
        "print(\"-\"*40)\n",
        "print('RMSE is {}'.format(rmse))\n",
        "print('R2 score is {}'.format(r2))\n",
        "print('i.e. The ridge reg. model explains the house price for test set {:.2f}% accurately'.format(r2*100))"
      ],
      "execution_count": null,
      "outputs": [
        {
          "output_type": "stream",
          "text": [
            "Ridge Regression Model (Linear Features)\n",
            "----------------------------------------\n",
            "\n",
            "The model performance for training set\n",
            "----------------------------------------\n",
            "RMSE is 0.5159988350756246\n",
            "R2 score is 0.738339142398241\n",
            "i.e. The ridge reg. model explains the house price for training set 73.83% accurately\n",
            "\n",
            "The model performance for testing set\n",
            "----------------------------------------\n",
            "RMSE is 0.4970909218215834\n",
            "R2 score is 0.7335676379772185\n",
            "i.e. The ridge reg. model explains the house price for test set 73.36% accurately\n"
          ],
          "name": "stdout"
        }
      ]
    },
    {
      "cell_type": "markdown",
      "metadata": {
        "id": "-EgYtpisl5Gg"
      },
      "source": [
        "## Ridge Regression model with polynomial features"
      ]
    },
    {
      "cell_type": "code",
      "metadata": {
        "id": "tLANNCy4mVWH"
      },
      "source": [
        "from sklearn.preprocessing import PolynomialFeatures\n",
        " \n",
        "poly = PolynomialFeatures(degree = 2)\n",
        "X_poly = poly.fit_transform(X)"
      ],
      "execution_count": null,
      "outputs": []
    },
    {
      "cell_type": "code",
      "metadata": {
        "id": "TlflUZYwmofj",
        "outputId": "d258baa9-15e7-403b-9af6-76d1b9f57b80",
        "colab": {
          "base_uri": "https://localhost:8080/",
          "height": 85
        }
      },
      "source": [
        "X_train, X_test, Y_train, Y_test = train_test_split(X_poly, Y, test_size = 0.2, random_state=5)\n",
        "print(X_train.shape)\n",
        "print(X_test.shape)\n",
        "print(Y_train.shape)\n",
        "print(Y_test.shape)"
      ],
      "execution_count": null,
      "outputs": [
        {
          "output_type": "stream",
          "text": [
            "(404, 105)\n",
            "(102, 105)\n",
            "(404, 1)\n",
            "(102, 1)\n"
          ],
          "name": "stdout"
        }
      ]
    },
    {
      "cell_type": "markdown",
      "metadata": {
        "id": "7_gWGKZCpOOP"
      },
      "source": [
        " Training the model"
      ]
    },
    {
      "cell_type": "code",
      "metadata": {
        "id": "bEiB2dKNmeuA",
        "outputId": "803e71bc-f8dd-41da-e50f-9fea81c13e61",
        "colab": {
          "base_uri": "https://localhost:8080/",
          "height": 498
        }
      },
      "source": [
        "ridge = Ridge(alpha=0.003)\n",
        "ridge.fit(X_train,Y_train)\n",
        "print (\"Ridge model:\", (ridge.coef_))"
      ],
      "execution_count": null,
      "outputs": [
        {
          "output_type": "stream",
          "text": [
            "Ridge model: [[ 0.00000000e+00  1.37436818e+00  6.03287003e-01  5.15552072e-01\n",
            "   1.79263984e-02 -1.86197009e-01  3.58492912e-01 -2.51912457e-01\n",
            "  -2.50081579e-01 -2.85710968e-01  3.00128781e-02 -3.06826027e-02\n",
            "   1.79850262e-01 -3.80548617e-01  1.72806736e-02  2.57794528e+00\n",
            "   1.32591869e+00  5.77728253e-01 -2.06522044e-03  5.91017178e-02\n",
            "  -1.38791071e-01 -1.10678549e-01 -3.97624587e-01 -1.03224907e+00\n",
            "   6.18127908e-01 -2.69589912e-02  1.60534947e-01 -4.11354648e-02\n",
            "  -1.19546797e-01 -6.83341940e-02 -3.58973762e-01  4.60466980e-02\n",
            "   3.19700732e-03 -7.82723427e-02 -8.56686674e-02  2.55206105e-01\n",
            "  -3.95815044e-02  4.17463914e-01 -6.41771201e-02  1.33489440e-01\n",
            "  -4.61025023e-02  1.34943042e-01  1.74389783e-01  1.26008887e-02\n",
            "   1.14345706e-01 -2.10943801e-02  6.33237880e-02  5.86705401e-03\n",
            "   4.26833213e-01  1.26375951e-02  6.08744511e-02 -5.61826423e-02\n",
            "  -1.35213906e-01  3.24495194e-02  1.84529099e-01 -1.13857722e-01\n",
            "   1.24344982e-01 -4.79267609e-02  6.57975194e-02 -9.71834530e-02\n",
            "  -8.31463610e-02  3.32990347e-02 -2.09211552e-01  3.99881136e-01\n",
            "  -8.54967832e-02  2.68794647e-01 -3.31777106e-01 -3.90016840e-02\n",
            "   1.28123136e-01  8.91132906e-03 -1.22538438e-01 -4.29482340e-03\n",
            "  -9.27190383e-02 -1.99192328e-01 -8.78084811e-02 -1.71853488e-02\n",
            "  -1.21745578e-01  8.55060792e-03 -6.68939676e-02  4.60670139e-01\n",
            "  -2.76060518e-01  2.91218120e-03 -2.03718938e-01 -1.49577434e-01\n",
            "   2.52716869e-01 -1.90134465e-01 -1.75327651e-01 -9.49526992e-02\n",
            "  -1.59008074e-01  1.61682362e-01 -1.13217362e+00  1.14796090e+00\n",
            "  -2.11718561e-01 -7.98017197e-02 -2.64903763e-01 -1.38798628e-01\n",
            "   2.41797943e-01 -2.03068718e-01 -9.68655476e-02  1.59382891e-04\n",
            "   1.93040172e-01  3.98684271e-03 -1.83475043e-02 -5.36270513e-02\n",
            "   5.42306833e-02]]\n"
          ],
          "name": "stdout"
        }
      ]
    },
    {
      "cell_type": "markdown",
      "metadata": {
        "id": "HigoD62tpS_6"
      },
      "source": [
        "Predictions on training and test set"
      ]
    },
    {
      "cell_type": "code",
      "metadata": {
        "id": "ITbfXnQEpf3D"
      },
      "source": [
        "y_train_predict = ridge.predict(X_train)\n",
        "y_test_predict = ridge.predict(X_test)"
      ],
      "execution_count": null,
      "outputs": []
    },
    {
      "cell_type": "markdown",
      "metadata": {
        "id": "odcvNh8kpXAe"
      },
      "source": [
        "Calculating metrices of predictions on training and test set"
      ]
    },
    {
      "cell_type": "code",
      "metadata": {
        "id": "cnmfrb46ng54",
        "outputId": "acfab184-6b9f-4569-9d64-aed1e3b8460d",
        "colab": {
          "base_uri": "https://localhost:8080/",
          "height": 276
        }
      },
      "source": [
        "rmse = (mean_squared_error(Y_train, y_train_predict)**(0.5))\n",
        "r2 = r2_score(Y_train, y_train_predict)\n",
        " \n",
        "print(\"Ridge Regression Model (Polynomial features)\")\n",
        "print(\"-\"*40)\n",
        " \n",
        "print(\"\\nThe model performance for training set\")\n",
        "print(\"-\"*40)\n",
        "print('RMSE is {}'.format(rmse))\n",
        "print('R2 score is {}'.format(r2))\n",
        "print('i.e. The ridge reg. model explains the house price for training set {:.2f}% accurately'.format(r2*100))\n",
        " \n",
        "rmse = (mean_squared_error(Y_test, y_test_predict)**(0.5))\n",
        "r2 = r2_score(Y_test, y_test_predict)\n",
        " \n",
        "print(\"\\nThe model performance for testing set\")\n",
        "print(\"-\"*40)\n",
        "print('RMSE is {}'.format(rmse))\n",
        "print('R2 score is {}'.format(r2))\n",
        "print('i.e. The ridge reg. model explains the house price for training set {:.2f}% accurately'.format(r2*100))"
      ],
      "execution_count": null,
      "outputs": [
        {
          "output_type": "stream",
          "text": [
            "Ridge Regression Model (Polynomial features)\n",
            "----------------------------------------\n",
            "\n",
            "The model performance for training set\n",
            "----------------------------------------\n",
            "RMSE is 0.26416073249415045\n",
            "R2 score is 0.9314231016653638\n",
            "i.e. The ridge reg. model explains the house price for training set 93.14% accurately\n",
            "\n",
            "The model performance for testing set\n",
            "----------------------------------------\n",
            "RMSE is 0.3499142284932476\n",
            "R2 score is 0.8679803684954606\n",
            "i.e. The ridge reg. model explains the house price for training set 86.80% accurately\n"
          ],
          "name": "stdout"
        }
      ]
    }
  ]
}