{
  "nbformat": 4,
  "nbformat_minor": 0,
  "metadata": {
    "colab": {
      "name": "LeakyReLU.ipynb",
      "provenance": []
    },
    "kernelspec": {
      "name": "python3",
      "display_name": "Python 3"
    }
  },
  "cells": [
    {
      "cell_type": "code",
      "metadata": {
        "id": "I_tOK8oyAtX3"
      },
      "source": [
        "import tensorflow as tf\n",
        "from tensorflow import keras\n",
        "import numpy as np\n",
        "import matplotlib.pyplot as plt"
      ],
      "execution_count": 1,
      "outputs": []
    },
    {
      "cell_type": "code",
      "metadata": {
        "id": "5c7CqCg1Cw6N",
        "outputId": "b758c189-1ba8-4a5d-f355-44d146497957",
        "colab": {
          "base_uri": "https://localhost:8080/",
          "height": 158
        }
      },
      "source": [
        "fashion_mnist = keras.datasets.fashion_mnist\n",
        "(train_images, train_labels), (test_images, test_labels) = fashion_mnist.load_data()"
      ],
      "execution_count": 2,
      "outputs": [
        {
          "output_type": "stream",
          "text": [
            "Downloading data from https://storage.googleapis.com/tensorflow/tf-keras-datasets/train-labels-idx1-ubyte.gz\n",
            "32768/29515 [=================================] - 0s 0us/step\n",
            "Downloading data from https://storage.googleapis.com/tensorflow/tf-keras-datasets/train-images-idx3-ubyte.gz\n",
            "26427392/26421880 [==============================] - 0s 0us/step\n",
            "Downloading data from https://storage.googleapis.com/tensorflow/tf-keras-datasets/t10k-labels-idx1-ubyte.gz\n",
            "8192/5148 [===============================================] - 0s 0us/step\n",
            "Downloading data from https://storage.googleapis.com/tensorflow/tf-keras-datasets/t10k-images-idx3-ubyte.gz\n",
            "4423680/4422102 [==============================] - 0s 0us/step\n"
          ],
          "name": "stdout"
        }
      ]
    },
    {
      "cell_type": "code",
      "metadata": {
        "id": "CyXvEccpC8Q2"
      },
      "source": [
        "class_names = ['T-shirt/top', 'Trouser', 'Pullover', 'Dress', 'Coat',\n",
        "               'Sandal', 'Shirt', 'Sneaker', 'Bag', 'Ankle boot']"
      ],
      "execution_count": 3,
      "outputs": []
    },
    {
      "cell_type": "code",
      "metadata": {
        "id": "JYeVfOq-DYUU"
      },
      "source": [
        "train_images = train_images / 255.0\n",
        "test_images = test_images / 255.0"
      ],
      "execution_count": 4,
      "outputs": []
    },
    {
      "cell_type": "code",
      "metadata": {
        "id": "lBoXSNSDmw61"
      },
      "source": [
        "model = keras.Sequential([\n",
        "    keras.layers.Flatten(input_shape=(28, 28)),\n",
        "    keras.layers.LeakyReLU(alpha=0.3),\n",
        "    keras.layers.LeakyReLU(alpha=0.3),\n",
        "    keras.layers.LeakyReLU(alpha=0.3),\n",
        "    keras.layers.LeakyReLU(alpha=0.3),\n",
        "    keras.layers.Dense(10, activation='softmax')\n",
        "])"
      ],
      "execution_count": 5,
      "outputs": []
    },
    {
      "cell_type": "code",
      "metadata": {
        "id": "e8ct8qc_Dv2m"
      },
      "source": [
        "model.compile(optimizer='sgd',\n",
        "              loss='sparse_categorical_crossentropy',\n",
        "              metrics=['accuracy'])"
      ],
      "execution_count": 6,
      "outputs": []
    },
    {
      "cell_type": "code",
      "metadata": {
        "id": "ep1-qU_LEA8-",
        "outputId": "551113bf-855c-45f6-980a-e8d8dab5b4e8",
        "colab": {
          "base_uri": "https://localhost:8080/",
          "height": 897
        }
      },
      "source": [
        "hist = model.fit(train_images, train_labels, epochs=25, validation_data=(test_images, test_labels))"
      ],
      "execution_count": 7,
      "outputs": [
        {
          "output_type": "stream",
          "text": [
            "Epoch 1/25\n",
            "1875/1875 [==============================] - 3s 2ms/step - loss: 0.8255 - accuracy: 0.7387 - val_loss: 0.6560 - val_accuracy: 0.7794\n",
            "Epoch 2/25\n",
            "1875/1875 [==============================] - 3s 2ms/step - loss: 0.5919 - accuracy: 0.8075 - val_loss: 0.5822 - val_accuracy: 0.8056\n",
            "Epoch 3/25\n",
            "1875/1875 [==============================] - 3s 1ms/step - loss: 0.5424 - accuracy: 0.8221 - val_loss: 0.5511 - val_accuracy: 0.8133\n",
            "Epoch 4/25\n",
            "1875/1875 [==============================] - 3s 1ms/step - loss: 0.5155 - accuracy: 0.8282 - val_loss: 0.5311 - val_accuracy: 0.8209\n",
            "Epoch 5/25\n",
            "1875/1875 [==============================] - 3s 1ms/step - loss: 0.4979 - accuracy: 0.8336 - val_loss: 0.5199 - val_accuracy: 0.8243\n",
            "Epoch 6/25\n",
            "1875/1875 [==============================] - 3s 2ms/step - loss: 0.4856 - accuracy: 0.8372 - val_loss: 0.5077 - val_accuracy: 0.8263\n",
            "Epoch 7/25\n",
            "1875/1875 [==============================] - 3s 2ms/step - loss: 0.4757 - accuracy: 0.8402 - val_loss: 0.5008 - val_accuracy: 0.8290\n",
            "Epoch 8/25\n",
            "1875/1875 [==============================] - 3s 1ms/step - loss: 0.4677 - accuracy: 0.8416 - val_loss: 0.4981 - val_accuracy: 0.8271\n",
            "Epoch 9/25\n",
            "1875/1875 [==============================] - 3s 1ms/step - loss: 0.4612 - accuracy: 0.8446 - val_loss: 0.4905 - val_accuracy: 0.8326\n",
            "Epoch 10/25\n",
            "1875/1875 [==============================] - 3s 1ms/step - loss: 0.4560 - accuracy: 0.8462 - val_loss: 0.4851 - val_accuracy: 0.8334\n",
            "Epoch 11/25\n",
            "1875/1875 [==============================] - 3s 2ms/step - loss: 0.4515 - accuracy: 0.8472 - val_loss: 0.4845 - val_accuracy: 0.8330\n",
            "Epoch 12/25\n",
            "1875/1875 [==============================] - 3s 1ms/step - loss: 0.4469 - accuracy: 0.8486 - val_loss: 0.4838 - val_accuracy: 0.8305\n",
            "Epoch 13/25\n",
            "1875/1875 [==============================] - 3s 1ms/step - loss: 0.4437 - accuracy: 0.8495 - val_loss: 0.4746 - val_accuracy: 0.8354\n",
            "Epoch 14/25\n",
            "1875/1875 [==============================] - 3s 2ms/step - loss: 0.4403 - accuracy: 0.8508 - val_loss: 0.4744 - val_accuracy: 0.8344\n",
            "Epoch 15/25\n",
            "1875/1875 [==============================] - 3s 1ms/step - loss: 0.4376 - accuracy: 0.8516 - val_loss: 0.4699 - val_accuracy: 0.8379\n",
            "Epoch 16/25\n",
            "1875/1875 [==============================] - 3s 1ms/step - loss: 0.4348 - accuracy: 0.8522 - val_loss: 0.4678 - val_accuracy: 0.8379\n",
            "Epoch 17/25\n",
            "1875/1875 [==============================] - 3s 2ms/step - loss: 0.4326 - accuracy: 0.8532 - val_loss: 0.4663 - val_accuracy: 0.8388\n",
            "Epoch 18/25\n",
            "1875/1875 [==============================] - 3s 1ms/step - loss: 0.4302 - accuracy: 0.8538 - val_loss: 0.4637 - val_accuracy: 0.8385\n",
            "Epoch 19/25\n",
            "1875/1875 [==============================] - 3s 2ms/step - loss: 0.4282 - accuracy: 0.8539 - val_loss: 0.4646 - val_accuracy: 0.8379\n",
            "Epoch 20/25\n",
            "1875/1875 [==============================] - 3s 2ms/step - loss: 0.4265 - accuracy: 0.8542 - val_loss: 0.4631 - val_accuracy: 0.8380\n",
            "Epoch 21/25\n",
            "1875/1875 [==============================] - 3s 2ms/step - loss: 0.4249 - accuracy: 0.8552 - val_loss: 0.4601 - val_accuracy: 0.8400\n",
            "Epoch 22/25\n",
            "1875/1875 [==============================] - 3s 1ms/step - loss: 0.4231 - accuracy: 0.8561 - val_loss: 0.4607 - val_accuracy: 0.8379\n",
            "Epoch 23/25\n",
            "1875/1875 [==============================] - 3s 1ms/step - loss: 0.4214 - accuracy: 0.8562 - val_loss: 0.4582 - val_accuracy: 0.8395\n",
            "Epoch 24/25\n",
            "1875/1875 [==============================] - 3s 2ms/step - loss: 0.4198 - accuracy: 0.8577 - val_loss: 0.4562 - val_accuracy: 0.8418\n",
            "Epoch 25/25\n",
            "1875/1875 [==============================] - 3s 2ms/step - loss: 0.4187 - accuracy: 0.8577 - val_loss: 0.4550 - val_accuracy: 0.8420\n"
          ],
          "name": "stdout"
        }
      ]
    },
    {
      "cell_type": "code",
      "metadata": {
        "id": "-iyjemCKENz4",
        "outputId": "73ae1afa-2fa0-43bb-94ff-8d7eec2bb8bb",
        "colab": {
          "base_uri": "https://localhost:8080/",
          "height": 70
        }
      },
      "source": [
        "test_loss, test_acc = model.evaluate(test_images,  test_labels, verbose=2)\n",
        "\n",
        "print('\\ntest accuracy:', test_acc)"
      ],
      "execution_count": 8,
      "outputs": [
        {
          "output_type": "stream",
          "text": [
            "313/313 - 0s - loss: 0.4550 - accuracy: 0.8420\n",
            "\n",
            "test accuracy: 0.8420000076293945\n"
          ],
          "name": "stdout"
        }
      ]
    },
    {
      "cell_type": "code",
      "metadata": {
        "id": "fD5_ZXUugWMu",
        "outputId": "5146bd5e-5209-48d4-cbed-9b99a9c7d6e4",
        "colab": {
          "base_uri": "https://localhost:8080/",
          "height": 279
        }
      },
      "source": [
        "fig, acc_ax = plt.subplots()\n",
        "acc_ax.plot(hist.history['val_accuracy'], 'g', label='test acc')\n",
        "\n",
        "acc_ax.set_xlabel('epoch')\n",
        "acc_ax.set_ylabel('accuracy')\n",
        "\n",
        "acc_ax.legend(loc='upper left')\n",
        "\n",
        "plt.show()"
      ],
      "execution_count": 9,
      "outputs": [
        {
          "output_type": "display_data",
          "data": {
            "image/png": "[encoded data removed]",
            "text/plain": [
              "<Figure size 432x288 with 1 Axes>"
            ]
          },
          "metadata": {
            "tags": [],
            "needs_background": "light"
          }
        }
      ]
    }
  ]
}