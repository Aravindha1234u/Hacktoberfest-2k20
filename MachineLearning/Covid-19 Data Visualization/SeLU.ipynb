{
  "nbformat": 4,
  "nbformat_minor": 0,
  "metadata": {
    "colab": {
      "name": "SeLU.ipynb",
      "provenance": [],
      "collapsed_sections": []
    },
    "kernelspec": {
      "name": "python3",
      "display_name": "Python 3"
    },
    "accelerator": "GPU"
  },
  "cells": [
    {
      "cell_type": "code",
      "metadata": {
        "id": "I_tOK8oyAtX3"
      },
      "source": [
        "import tensorflow as tf\n",
        "from tensorflow import keras\n",
        "import numpy as np\n",
        "import matplotlib.pyplot as plt"
      ],
      "execution_count": 1,
      "outputs": []
    },
    {
      "cell_type": "code",
      "metadata": {
        "id": "5c7CqCg1Cw6N",
        "outputId": "90379b3e-8663-4e8d-fe32-5bd8cd6f615f",
        "colab": {
          "base_uri": "https://localhost:8080/",
          "height": 158
        }
      },
      "source": [
        "fashion_mnist = keras.datasets.fashion_mnist\n",
        "(train_images, train_labels), (test_images, test_labels) = fashion_mnist.load_data()"
      ],
      "execution_count": 2,
      "outputs": [
        {
          "output_type": "stream",
          "text": [
            "Downloading data from https://storage.googleapis.com/tensorflow/tf-keras-datasets/train-labels-idx1-ubyte.gz\n",
            "32768/29515 [=================================] - 0s 0us/step\n",
            "Downloading data from https://storage.googleapis.com/tensorflow/tf-keras-datasets/train-images-idx3-ubyte.gz\n",
            "26427392/26421880 [==============================] - 0s 0us/step\n",
            "Downloading data from https://storage.googleapis.com/tensorflow/tf-keras-datasets/t10k-labels-idx1-ubyte.gz\n",
            "8192/5148 [===============================================] - 0s 0us/step\n",
            "Downloading data from https://storage.googleapis.com/tensorflow/tf-keras-datasets/t10k-images-idx3-ubyte.gz\n",
            "4423680/4422102 [==============================] - 0s 0us/step\n"
          ],
          "name": "stdout"
        }
      ]
    },
    {
      "cell_type": "code",
      "metadata": {
        "id": "CyXvEccpC8Q2"
      },
      "source": [
        "class_names = ['T-shirt/top', 'Trouser', 'Pullover', 'Dress', 'Coat',\n",
        "               'Sandal', 'Shirt', 'Sneaker', 'Bag', 'Ankle boot']"
      ],
      "execution_count": 3,
      "outputs": []
    },
    {
      "cell_type": "code",
      "metadata": {
        "id": "JYeVfOq-DYUU"
      },
      "source": [
        "train_images = train_images / 255.0\n",
        "test_images = test_images / 255.0"
      ],
      "execution_count": 4,
      "outputs": []
    },
    {
      "cell_type": "code",
      "metadata": {
        "id": "Rjp20CNlDvzI"
      },
      "source": [
        "model = keras.Sequential([\n",
        "    keras.layers.Flatten(input_shape=(28, 28)),\n",
        "    keras.layers.Dense(128, activation='selu'),\n",
        "    keras.layers.Dense(128, activation='selu'),\n",
        "    keras.layers.Dense(128, activation='selu'),\n",
        "    keras.layers.Dense(128, activation='selu'),\n",
        "    keras.layers.Dense(10, activation='softmax')\n",
        "])"
      ],
      "execution_count": 5,
      "outputs": []
    },
    {
      "cell_type": "code",
      "metadata": {
        "id": "e8ct8qc_Dv2m"
      },
      "source": [
        "model.compile(optimizer='sgd',\n",
        "              loss='sparse_categorical_crossentropy',\n",
        "              metrics=['accuracy'])"
      ],
      "execution_count": 6,
      "outputs": []
    },
    {
      "cell_type": "code",
      "metadata": {
        "id": "ep1-qU_LEA8-",
        "outputId": "e783696f-bed8-4d35-b9fa-0a28db28d6ea",
        "colab": {
          "base_uri": "https://localhost:8080/",
          "height": 897
        }
      },
      "source": [
        "hist = model.fit(train_images, train_labels, epochs=25, validation_data=(test_images, test_labels))"
      ],
      "execution_count": 7,
      "outputs": [
        {
          "output_type": "stream",
          "text": [
            "Epoch 1/25\n",
            "1875/1875 [==============================] - 6s 3ms/step - loss: 0.5428 - accuracy: 0.8071 - val_loss: 0.4610 - val_accuracy: 0.8364\n",
            "Epoch 2/25\n",
            "1875/1875 [==============================] - 5s 3ms/step - loss: 0.4193 - accuracy: 0.8475 - val_loss: 0.4580 - val_accuracy: 0.8316\n",
            "Epoch 3/25\n",
            "1875/1875 [==============================] - 6s 3ms/step - loss: 0.3844 - accuracy: 0.8617 - val_loss: 0.4096 - val_accuracy: 0.8546\n",
            "Epoch 4/25\n",
            "1875/1875 [==============================] - 6s 3ms/step - loss: 0.3637 - accuracy: 0.8674 - val_loss: 0.3988 - val_accuracy: 0.8545\n",
            "Epoch 5/25\n",
            "1875/1875 [==============================] - 6s 3ms/step - loss: 0.3472 - accuracy: 0.8727 - val_loss: 0.4037 - val_accuracy: 0.8570\n",
            "Epoch 6/25\n",
            "1875/1875 [==============================] - 5s 3ms/step - loss: 0.3343 - accuracy: 0.8766 - val_loss: 0.3855 - val_accuracy: 0.8630\n",
            "Epoch 7/25\n",
            "1875/1875 [==============================] - 5s 3ms/step - loss: 0.3223 - accuracy: 0.8822 - val_loss: 0.3576 - val_accuracy: 0.8731\n",
            "Epoch 8/25\n",
            "1875/1875 [==============================] - 5s 3ms/step - loss: 0.3131 - accuracy: 0.8840 - val_loss: 0.3772 - val_accuracy: 0.8601\n",
            "Epoch 9/25\n",
            "1875/1875 [==============================] - 6s 3ms/step - loss: 0.3035 - accuracy: 0.8883 - val_loss: 0.3886 - val_accuracy: 0.8570\n",
            "Epoch 10/25\n",
            "1875/1875 [==============================] - 6s 3ms/step - loss: 0.2969 - accuracy: 0.8899 - val_loss: 0.3811 - val_accuracy: 0.8625\n",
            "Epoch 11/25\n",
            "1875/1875 [==============================] - 6s 3ms/step - loss: 0.2891 - accuracy: 0.8928 - val_loss: 0.3470 - val_accuracy: 0.8765\n",
            "Epoch 12/25\n",
            "1875/1875 [==============================] - 6s 3ms/step - loss: 0.2837 - accuracy: 0.8951 - val_loss: 0.3420 - val_accuracy: 0.8752\n",
            "Epoch 13/25\n",
            "1875/1875 [==============================] - 6s 3ms/step - loss: 0.2764 - accuracy: 0.8977 - val_loss: 0.3414 - val_accuracy: 0.8773\n",
            "Epoch 14/25\n",
            "1875/1875 [==============================] - 6s 3ms/step - loss: 0.2713 - accuracy: 0.9000 - val_loss: 0.3375 - val_accuracy: 0.8803\n",
            "Epoch 15/25\n",
            "1875/1875 [==============================] - 6s 3ms/step - loss: 0.2657 - accuracy: 0.9017 - val_loss: 0.3384 - val_accuracy: 0.8795\n",
            "Epoch 16/25\n",
            "1875/1875 [==============================] - 6s 3ms/step - loss: 0.2598 - accuracy: 0.9040 - val_loss: 0.3424 - val_accuracy: 0.8799\n",
            "Epoch 17/25\n",
            "1875/1875 [==============================] - 5s 3ms/step - loss: 0.2553 - accuracy: 0.9043 - val_loss: 0.3366 - val_accuracy: 0.8791\n",
            "Epoch 18/25\n",
            "1875/1875 [==============================] - 5s 3ms/step - loss: 0.2505 - accuracy: 0.9068 - val_loss: 0.3262 - val_accuracy: 0.8845\n",
            "Epoch 19/25\n",
            "1875/1875 [==============================] - 6s 3ms/step - loss: 0.2450 - accuracy: 0.9095 - val_loss: 0.3371 - val_accuracy: 0.8799\n",
            "Epoch 20/25\n",
            "1875/1875 [==============================] - 6s 3ms/step - loss: 0.2405 - accuracy: 0.9121 - val_loss: 0.3406 - val_accuracy: 0.8814\n",
            "Epoch 21/25\n",
            "1875/1875 [==============================] - 6s 3ms/step - loss: 0.2369 - accuracy: 0.9135 - val_loss: 0.3421 - val_accuracy: 0.8788\n",
            "Epoch 22/25\n",
            "1875/1875 [==============================] - 6s 3ms/step - loss: 0.2325 - accuracy: 0.9136 - val_loss: 0.3383 - val_accuracy: 0.8788\n",
            "Epoch 23/25\n",
            "1875/1875 [==============================] - 6s 3ms/step - loss: 0.2293 - accuracy: 0.9144 - val_loss: 0.3486 - val_accuracy: 0.8751\n",
            "Epoch 24/25\n",
            "1875/1875 [==============================] - 6s 3ms/step - loss: 0.2250 - accuracy: 0.9168 - val_loss: 0.3632 - val_accuracy: 0.8775\n",
            "Epoch 25/25\n",
            "1875/1875 [==============================] - 6s 3ms/step - loss: 0.2212 - accuracy: 0.9186 - val_loss: 0.3251 - val_accuracy: 0.8872\n"
          ],
          "name": "stdout"
        }
      ]
    },
    {
      "cell_type": "code",
      "metadata": {
        "id": "-iyjemCKENz4",
        "outputId": "47eee833-beb4-4185-c072-0832c43b1056",
        "colab": {
          "base_uri": "https://localhost:8080/",
          "height": 70
        }
      },
      "source": [
        "test_loss, test_acc = model.evaluate(test_images,  test_labels, verbose=2)\n",
        "\n",
        "print('\\ntest accuracy:', test_acc)"
      ],
      "execution_count": 8,
      "outputs": [
        {
          "output_type": "stream",
          "text": [
            "313/313 - 1s - loss: 0.3251 - accuracy: 0.8872\n",
            "\n",
            "test accuracy: 0.8871999979019165\n"
          ],
          "name": "stdout"
        }
      ]
    },
    {
      "cell_type": "code",
      "metadata": {
        "id": "fD5_ZXUugWMu",
        "outputId": "167dc719-ca24-48f5-8140-7252c94086b8",
        "colab": {
          "base_uri": "https://localhost:8080/",
          "height": 279
        }
      },
      "source": [
        "fig, acc_ax = plt.subplots()\n",
        "acc_ax.plot(hist.history['val_accuracy'], 'g', label='test acc')\n",
        "\n",
        "acc_ax.set_xlabel('epoch')\n",
        "acc_ax.set_ylabel('accuracy')\n",
        "\n",
        "acc_ax.legend(loc='upper left')\n",
        "\n",
        "plt.show()"
      ],
      "execution_count": 9,
      "outputs": [
        {
          "output_type": "display_data",
          "data": {
            "image/png": "[encoded data removed]",
            "text/plain": [
              "<Figure size 432x288 with 1 Axes>"
            ]
          },
          "metadata": {
            "tags": [],
            "needs_background": "light"
          }
        }
      ]
    }
  ]
}