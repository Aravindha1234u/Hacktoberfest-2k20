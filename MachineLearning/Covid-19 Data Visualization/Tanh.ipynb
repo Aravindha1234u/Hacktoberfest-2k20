{
  "nbformat": 4,
  "nbformat_minor": 0,
  "metadata": {
    "colab": {
      "name": "Tanh.ipynb",
      "provenance": [],
      "collapsed_sections": []
    },
    "kernelspec": {
      "name": "python3",
      "display_name": "Python 3"
    }
  },
  "cells": [
    {
      "cell_type": "code",
      "metadata": {
        "id": "I_tOK8oyAtX3"
      },
      "source": [
        "import tensorflow as tf\n",
        "from tensorflow import keras\n",
        "import numpy as np\n",
        "import matplotlib.pyplot as plt"
      ],
      "execution_count": 1,
      "outputs": []
    },
    {
      "cell_type": "code",
      "metadata": {
        "id": "5c7CqCg1Cw6N",
        "outputId": "313a5d84-fc15-48f8-fe06-25657d8ee65e",
        "colab": {
          "base_uri": "https://localhost:8080/",
          "height": 158
        }
      },
      "source": [
        "fashion_mnist = keras.datasets.fashion_mnist\n",
        "(train_images, train_labels), (test_images, test_labels) = fashion_mnist.load_data()"
      ],
      "execution_count": 2,
      "outputs": [
        {
          "output_type": "stream",
          "text": [
            "Downloading data from https://storage.googleapis.com/tensorflow/tf-keras-datasets/train-labels-idx1-ubyte.gz\n",
            "32768/29515 [=================================] - 0s 0us/step\n",
            "Downloading data from https://storage.googleapis.com/tensorflow/tf-keras-datasets/train-images-idx3-ubyte.gz\n",
            "26427392/26421880 [==============================] - 0s 0us/step\n",
            "Downloading data from https://storage.googleapis.com/tensorflow/tf-keras-datasets/t10k-labels-idx1-ubyte.gz\n",
            "8192/5148 [===============================================] - 0s 0us/step\n",
            "Downloading data from https://storage.googleapis.com/tensorflow/tf-keras-datasets/t10k-images-idx3-ubyte.gz\n",
            "4423680/4422102 [==============================] - 0s 0us/step\n"
          ],
          "name": "stdout"
        }
      ]
    },
    {
      "cell_type": "code",
      "metadata": {
        "id": "CyXvEccpC8Q2"
      },
      "source": [
        "class_names = ['T-shirt/top', 'Trouser', 'Pullover', 'Dress', 'Coat',\n",
        "               'Sandal', 'Shirt', 'Sneaker', 'Bag', 'Ankle boot']"
      ],
      "execution_count": 3,
      "outputs": []
    },
    {
      "cell_type": "code",
      "metadata": {
        "id": "JYeVfOq-DYUU"
      },
      "source": [
        "train_images = train_images / 255.0\n",
        "test_images = test_images / 255.0"
      ],
      "execution_count": 4,
      "outputs": []
    },
    {
      "cell_type": "code",
      "metadata": {
        "id": "Rjp20CNlDvzI"
      },
      "source": [
        "model = keras.Sequential([\n",
        "    keras.layers.Flatten(input_shape=(28, 28)),\n",
        "    keras.layers.Dense(128, activation='tanh'),\n",
        "    keras.layers.Dense(128, activation='tanh'),\n",
        "    keras.layers.Dense(128, activation='tanh'),\n",
        "    keras.layers.Dense(128, activation='tanh'),\n",
        "    keras.layers.Dense(10, activation='softmax')\n",
        "])"
      ],
      "execution_count": 5,
      "outputs": []
    },
    {
      "cell_type": "code",
      "metadata": {
        "id": "e8ct8qc_Dv2m"
      },
      "source": [
        "model.compile(optimizer='sgd',\n",
        "              loss='sparse_categorical_crossentropy',\n",
        "              metrics=['accuracy'])"
      ],
      "execution_count": 6,
      "outputs": []
    },
    {
      "cell_type": "code",
      "metadata": {
        "id": "ep1-qU_LEA8-",
        "outputId": "478f7992-841a-42a3-d12a-9b4354872356",
        "colab": {
          "base_uri": "https://localhost:8080/",
          "height": 897
        }
      },
      "source": [
        "hist = model.fit(train_images, train_labels, epochs=25, validation_data=(test_images, test_labels))"
      ],
      "execution_count": 7,
      "outputs": [
        {
          "output_type": "stream",
          "text": [
            "Epoch 1/25\n",
            "1875/1875 [==============================] - 4s 2ms/step - loss: 0.6432 - accuracy: 0.7838 - val_loss: 0.5009 - val_accuracy: 0.8204\n",
            "Epoch 2/25\n",
            "1875/1875 [==============================] - 4s 2ms/step - loss: 0.4464 - accuracy: 0.8411 - val_loss: 0.4514 - val_accuracy: 0.8423\n",
            "Epoch 3/25\n",
            "1875/1875 [==============================] - 4s 2ms/step - loss: 0.4091 - accuracy: 0.8528 - val_loss: 0.4397 - val_accuracy: 0.8404\n",
            "Epoch 4/25\n",
            "1875/1875 [==============================] - 4s 2ms/step - loss: 0.3865 - accuracy: 0.8608 - val_loss: 0.4048 - val_accuracy: 0.8560\n",
            "Epoch 5/25\n",
            "1875/1875 [==============================] - 4s 2ms/step - loss: 0.3692 - accuracy: 0.8676 - val_loss: 0.4107 - val_accuracy: 0.8514\n",
            "Epoch 6/25\n",
            "1875/1875 [==============================] - 4s 2ms/step - loss: 0.3565 - accuracy: 0.8718 - val_loss: 0.4025 - val_accuracy: 0.8555\n",
            "Epoch 7/25\n",
            "1875/1875 [==============================] - 4s 2ms/step - loss: 0.3449 - accuracy: 0.8749 - val_loss: 0.3773 - val_accuracy: 0.8648\n",
            "Epoch 8/25\n",
            "1875/1875 [==============================] - 4s 2ms/step - loss: 0.3356 - accuracy: 0.8793 - val_loss: 0.3723 - val_accuracy: 0.8674\n",
            "Epoch 9/25\n",
            "1875/1875 [==============================] - 4s 2ms/step - loss: 0.3270 - accuracy: 0.8806 - val_loss: 0.3766 - val_accuracy: 0.8599\n",
            "Epoch 10/25\n",
            "1875/1875 [==============================] - 4s 2ms/step - loss: 0.3200 - accuracy: 0.8834 - val_loss: 0.3795 - val_accuracy: 0.8642\n",
            "Epoch 11/25\n",
            "1875/1875 [==============================] - 4s 2ms/step - loss: 0.3114 - accuracy: 0.8871 - val_loss: 0.3675 - val_accuracy: 0.8658\n",
            "Epoch 12/25\n",
            "1875/1875 [==============================] - 4s 2ms/step - loss: 0.3055 - accuracy: 0.8883 - val_loss: 0.3602 - val_accuracy: 0.8718\n",
            "Epoch 13/25\n",
            "1875/1875 [==============================] - 4s 2ms/step - loss: 0.2993 - accuracy: 0.8906 - val_loss: 0.3607 - val_accuracy: 0.8701\n",
            "Epoch 14/25\n",
            "1875/1875 [==============================] - 4s 2ms/step - loss: 0.2952 - accuracy: 0.8935 - val_loss: 0.3567 - val_accuracy: 0.8716\n",
            "Epoch 15/25\n",
            "1875/1875 [==============================] - 4s 2ms/step - loss: 0.2891 - accuracy: 0.8936 - val_loss: 0.3597 - val_accuracy: 0.8701\n",
            "Epoch 16/25\n",
            "1875/1875 [==============================] - 4s 2ms/step - loss: 0.2839 - accuracy: 0.8956 - val_loss: 0.3491 - val_accuracy: 0.8737\n",
            "Epoch 17/25\n",
            "1875/1875 [==============================] - 4s 2ms/step - loss: 0.2787 - accuracy: 0.8971 - val_loss: 0.3489 - val_accuracy: 0.8743\n",
            "Epoch 18/25\n",
            "1875/1875 [==============================] - 4s 2ms/step - loss: 0.2753 - accuracy: 0.8993 - val_loss: 0.3514 - val_accuracy: 0.8725\n",
            "Epoch 19/25\n",
            "1875/1875 [==============================] - 4s 2ms/step - loss: 0.2700 - accuracy: 0.9003 - val_loss: 0.3370 - val_accuracy: 0.8792\n",
            "Epoch 20/25\n",
            "1875/1875 [==============================] - 4s 2ms/step - loss: 0.2658 - accuracy: 0.9018 - val_loss: 0.3417 - val_accuracy: 0.8760\n",
            "Epoch 21/25\n",
            "1875/1875 [==============================] - 4s 2ms/step - loss: 0.2607 - accuracy: 0.9051 - val_loss: 0.3349 - val_accuracy: 0.8781\n",
            "Epoch 22/25\n",
            "1875/1875 [==============================] - 4s 2ms/step - loss: 0.2584 - accuracy: 0.9038 - val_loss: 0.3399 - val_accuracy: 0.8787\n",
            "Epoch 23/25\n",
            "1875/1875 [==============================] - 4s 2ms/step - loss: 0.2537 - accuracy: 0.9066 - val_loss: 0.3371 - val_accuracy: 0.8784\n",
            "Epoch 24/25\n",
            "1875/1875 [==============================] - 4s 2ms/step - loss: 0.2500 - accuracy: 0.9080 - val_loss: 0.3441 - val_accuracy: 0.8744\n",
            "Epoch 25/25\n",
            "1875/1875 [==============================] - 4s 2ms/step - loss: 0.2465 - accuracy: 0.9089 - val_loss: 0.3325 - val_accuracy: 0.8805\n"
          ],
          "name": "stdout"
        }
      ]
    },
    {
      "cell_type": "code",
      "metadata": {
        "id": "-iyjemCKENz4",
        "outputId": "2e50da04-4c80-4167-c1d9-250e5539689a",
        "colab": {
          "base_uri": "https://localhost:8080/",
          "height": 70
        }
      },
      "source": [
        "test_loss, test_acc = model.evaluate(test_images,  test_labels, verbose=2)\n",
        "\n",
        "print('\\ntest accuracy:', test_acc)"
      ],
      "execution_count": 8,
      "outputs": [
        {
          "output_type": "stream",
          "text": [
            "313/313 - 0s - loss: 0.3325 - accuracy: 0.8805\n",
            "\n",
            "test accuracy: 0.8805000185966492\n"
          ],
          "name": "stdout"
        }
      ]
    },
    {
      "cell_type": "code",
      "metadata": {
        "id": "fD5_ZXUugWMu",
        "outputId": "9046e253-5981-4d2c-ac02-9e643efaf714",
        "colab": {
          "base_uri": "https://localhost:8080/",
          "height": 279
        }
      },
      "source": [
        "fig, acc_ax = plt.subplots()\n",
        "acc_ax.plot(hist.history['val_accuracy'], 'g', label='test acc')\n",
        "\n",
        "acc_ax.set_xlabel('epoch')\n",
        "acc_ax.set_ylabel('accuracy')\n",
        "\n",
        "acc_ax.legend(loc='upper left')\n",
        "\n",
        "plt.show()"
      ],
      "execution_count": 9,
      "outputs": [
        {
          "output_type": "display_data",
          "data": {
            "image/png": "[encoded data removed]",
            "text/plain": [
              "<Figure size 432x288 with 1 Axes>"
            ]
          },
          "metadata": {
            "tags": [],
            "needs_background": "light"
          }
        }
      ]
    }
  ]
}